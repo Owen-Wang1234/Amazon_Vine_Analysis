{
  "nbformat": 4,
  "nbformat_minor": 0,
  "metadata": {
    "colab": {
      "provenance": []
    },
    "kernelspec": {
      "name": "python3",
      "display_name": "Python 3"
    },
    "language_info": {
      "name": "python"
    }
  },
  "cells": [
    {
      "cell_type": "code",
      "execution_count": 1,
      "metadata": {
        "colab": {
          "base_uri": "https://localhost:8080/"
        },
        "id": "isMo0Mo3_w1p",
        "outputId": "be4e9ea3-0579-4a55-e377-f98779621784"
      },
      "outputs": [
        {
          "output_type": "stream",
          "name": "stdout",
          "text": [
            "Get:1 https://cloud.r-project.org/bin/linux/ubuntu bionic-cran40/ InRelease [3,626 B]\n",
            "Hit:2 http://archive.ubuntu.com/ubuntu bionic InRelease\n",
            "Ign:3 https://developer.download.nvidia.com/compute/machine-learning/repos/ubuntu1804/x86_64  InRelease\n",
            "Hit:4 https://developer.download.nvidia.com/compute/cuda/repos/ubuntu1804/x86_64  InRelease\n",
            "Hit:5 https://developer.download.nvidia.com/compute/machine-learning/repos/ubuntu1804/x86_64  Release\n",
            "Hit:6 http://security.ubuntu.com/ubuntu bionic-security InRelease\n",
            "Hit:7 http://archive.ubuntu.com/ubuntu bionic-updates InRelease\n",
            "Hit:8 http://ppa.launchpad.net/c2d4u.team/c2d4u4.0+/ubuntu bionic InRelease\n",
            "Hit:9 http://archive.ubuntu.com/ubuntu bionic-backports InRelease\n",
            "Hit:11 http://ppa.launchpad.net/cran/libgit2/ubuntu bionic InRelease\n",
            "Hit:12 http://ppa.launchpad.net/deadsnakes/ppa/ubuntu bionic InRelease\n",
            "Hit:13 http://ppa.launchpad.net/graphics-drivers/ppa/ubuntu bionic InRelease\n",
            "Fetched 3,626 B in 3s (1,234 B/s)\n",
            "Reading package lists... Done\n"
          ]
        }
      ],
      "source": [
        "import os\n",
        "# Find the latest version of spark 3.2 from http://www.apache.org/dist/spark/ and enter as the spark version\n",
        "# For example:\n",
        "# spark_version = 'spark-3.2.3'\n",
        "spark_version = 'spark-3.2.3'\n",
        "os.environ['SPARK_VERSION']=spark_version\n",
        "\n",
        "# Install Spark and Java\n",
        "!apt-get update\n",
        "!apt-get install openjdk-11-jdk-headless -qq > /dev/null\n",
        "!wget -q http://www.apache.org/dist/spark/$SPARK_VERSION/$SPARK_VERSION-bin-hadoop2.7.tgz\n",
        "!tar xf $SPARK_VERSION-bin-hadoop2.7.tgz\n",
        "!pip install -q findspark\n",
        "\n",
        "# Set Environment Variables\n",
        "import os\n",
        "os.environ[\"JAVA_HOME\"] = \"/usr/lib/jvm/java-11-openjdk-amd64\"\n",
        "os.environ[\"SPARK_HOME\"] = f\"/content/{spark_version}-bin-hadoop2.7\"\n",
        "\n",
        "# Start a SparkSession\n",
        "import findspark\n",
        "findspark.init()"
      ]
    },
    {
      "cell_type": "code",
      "source": [
        "# Download the Postgres driver that will allow Spark to interact with Postgres.\n",
        "!wget https://jdbc.postgresql.org/download/postgresql-42.2.16.jar"
      ],
      "metadata": {
        "colab": {
          "base_uri": "https://localhost:8080/"
        },
        "id": "gZchZOCJ__R9",
        "outputId": "bfd87312-c081-4cda-a920-4e6a2dbaea82"
      },
      "execution_count": 2,
      "outputs": [
        {
          "output_type": "stream",
          "name": "stdout",
          "text": [
            "--2023-01-11 05:33:28--  https://jdbc.postgresql.org/download/postgresql-42.2.16.jar\n",
            "Resolving jdbc.postgresql.org (jdbc.postgresql.org)... 72.32.157.228, 2001:4800:3e1:1::228\n",
            "Connecting to jdbc.postgresql.org (jdbc.postgresql.org)|72.32.157.228|:443... connected.\n",
            "HTTP request sent, awaiting response... 200 OK\n",
            "Length: 1002883 (979K) [application/java-archive]\n",
            "Saving to: ‘postgresql-42.2.16.jar.1’\n",
            "\n",
            "postgresql-42.2.16. 100%[===================>] 979.38K  1.18MB/s    in 0.8s    \n",
            "\n",
            "2023-01-11 05:33:30 (1.18 MB/s) - ‘postgresql-42.2.16.jar.1’ saved [1002883/1002883]\n",
            "\n"
          ]
        }
      ]
    },
    {
      "cell_type": "code",
      "source": [
        "from pyspark.sql import SparkSession\n",
        "spark = SparkSession.builder.appName(\"M17-Amazon-Challenge\").config(\"spark.driver.extraClassPath\",\"/content/postgresql-42.2.16.jar\").getOrCreate()"
      ],
      "metadata": {
        "id": "pY4V7mU-ABZf"
      },
      "execution_count": 3,
      "outputs": []
    },
    {
      "cell_type": "markdown",
      "source": [
        "## Load Amazon Vine Data into Spark DataFrame"
      ],
      "metadata": {
        "id": "pfDXRgEKA0gm"
      }
    },
    {
      "cell_type": "markdown",
      "source": [
        "### Method 1: Extract columns from Amazon Data"
      ],
      "metadata": {
        "id": "hsyxUlwZC-MM"
      }
    },
    {
      "cell_type": "code",
      "source": [
        "from pyspark import SparkFiles\n",
        "url = \"https://s3.amazonaws.com/amazon-reviews-pds/tsv/amazon_reviews_us_Major_Appliances_v1_00.tsv.gz\"\n",
        "spark.sparkContext.addFile(url)\n",
        "df = spark.read.option(\"encoding\", \"UTF-8\").csv(SparkFiles.get(\"amazon_reviews_us_Major_Appliances_v1_00.tsv.gz\"), sep=\"\\t\", header=True, inferSchema=True)\n",
        "df.show(20)"
      ],
      "metadata": {
        "colab": {
          "base_uri": "https://localhost:8080/"
        },
        "id": "WbtqF-i0DGZo",
        "outputId": "af9b7e24-d1ad-47f2-c466-eb70ca41618f"
      },
      "execution_count": 4,
      "outputs": [
        {
          "output_type": "stream",
          "name": "stdout",
          "text": [
            "+-----------+-----------+--------------+----------+--------------+--------------------+----------------+-----------+-------------+-----------+----+-----------------+--------------------+--------------------+-----------+\n",
            "|marketplace|customer_id|     review_id|product_id|product_parent|       product_title|product_category|star_rating|helpful_votes|total_votes|vine|verified_purchase|     review_headline|         review_body|review_date|\n",
            "+-----------+-----------+--------------+----------+--------------+--------------------+----------------+-----------+-------------+-----------+----+-----------------+--------------------+--------------------+-----------+\n",
            "|         US|   16199106|R203HPW78Z7N4K|B0067WNSZY|     633038551|FGGF3032MW Galler...|Major Appliances|          5|            0|          0|   N|                Y|If you need a new...|What a great stov...| 2015-08-31|\n",
            "|         US|   16374060|R2EAIGVLEALSP3|B002QSXK60|     811766671|Best Hand Clothes...|Major Appliances|          5|            1|          1|   N|                Y|          Five Stars|        worked great| 2015-08-31|\n",
            "|         US|   15322085|R1K1CD73HHLILA|B00EC452R6|     345562728|Supco SET184 Ther...|Major Appliances|          5|            0|          0|   N|                Y|       Fast Shipping|Part exactly what...| 2015-08-31|\n",
            "|         US|   32004835|R2KZBMOFRMYOPO|B00MVVIF2G|     563052763|Midea WHS-160RB1 ...|Major Appliances|          5|            1|          1|   N|                Y|          Five Stars|Love my refrigera...| 2015-08-31|\n",
            "|         US|   25414497| R6BIZOZY6UD01|B00IY7BNUW|     874236579|Avalon Bay Portab...|Major Appliances|          5|            0|          0|   N|                Y|          Five Stars|No more running t...| 2015-08-31|\n",
            "|         US|   36311751|R1MCXZFNF8E7Y0|B0033X29CI|     294467812|Danby  Freestandi...|Major Appliances|          1|            0|          0|   N|                Y|       Piece of Junk|It would not cool...| 2015-08-31|\n",
            "|         US|   30920961|R3EMB3E3ODR6BW|B005R597HA|     183784715|Avanti 110-Volt A...|Major Appliances|          5|            2|          2|   N|                Y|Works awesome for...|Works awesome for...| 2015-08-31|\n",
            "|         US|   52491265| RJTONVTTOPJ5S|B00MO6V8Y0|     960251524|      Danby products|Major Appliances|          5|            0|          0|   N|                Y|          Five Stars|exactly what I wa...| 2015-08-31|\n",
            "|         US|   48166169|R21U5QZ2CQECUM|B00HT39QDI|     992475314|3 Pack Tier1 MSWF...|Major Appliances|          4|            0|          0|   N|                Y|          Four Stars|       AS advertised| 2015-08-31|\n",
            "|         US|   50394924| RL2BBC51H89DH|B00LESFZ52|       1641606|True TSSU-60-16 6...|Major Appliances|          4|            0|          0|   N|                Y|but has poor insu...|It works as adver...| 2015-08-31|\n",
            "|         US|    3915552|R3RNEPHF3WIRSZ|B0149IJVPI|     838108342|Magic: the Gather...|Major Appliances|          2|            0|          0|   N|                N|           Two Stars|it's not worth 22...| 2015-08-31|\n",
            "|         US|   17068589|R38DNT9KML2PF3|B002HT0958|     387104338|Mini Portable Cou...|Major Appliances|          5|            0|          0|   N|                Y| Love it for camping|Wonderful! It spi...| 2015-08-31|\n",
            "|         US|   52081068|R2ECMBJM8KNNC8|B006WOBNX6|     180688127|1 X Dishwasher Ra...|Major Appliances|          4|            0|          0|   N|                Y|          Four Stars|Did the job but d...| 2015-08-31|\n",
            "|         US|   13783713|R2F3F92PRN9T7S|B00NLPMOU0|     570132358|Watson 1.5 ft AC ...|Major Appliances|          5|            0|          0|   N|                Y|Very well satisfied.|Arrived on time a...| 2015-08-31|\n",
            "|         US|   14555366|R35XNT88XVEMK6|B00KJ07SEM|     313983847|GE MWF SmartWater...|Major Appliances|          5|            1|          1|   N|                Y|          Five Stars|               Super| 2015-08-31|\n",
            "|         US|   48417244| RZRXLHQS71FUP|B001AT2ALM|     364403440|Koldfront Ultra C...|Major Appliances|          4|            1|          1|   N|                Y|          Four Stars|Looking forward t...| 2015-08-31|\n",
            "|         US|   19010760|R3J9T4MZRAURV5|B00JG8B42K|     672722354|OnePurify RFC0800...|Major Appliances|          1|            0|          0|   N|                Y|     dont waste your|cheap knock-off. ...| 2015-08-31|\n",
            "|         US|   43532555|R3CLDHHI0ZSQLO|B00FRJ5EWS|     137548022|2016 Life Water I...|Major Appliances|          5|            1|          2|   N|                N|       Great Product|My wife is lookin...| 2015-08-31|\n",
            "|         US|   21879631| RY52KZABZK8QF|B0052G14E8|     423421857|Danby 0.7 cu.ft. ...|Major Appliances|          1|            0|          0|   N|                Y|Do not recommend ...|3 of the buttons ...| 2015-08-31|\n",
            "|         US|     810098|R25RXV5X29M3UC|B00LOVVE9A|     386722389|SPT UF-304SS Ener...|Major Appliances|          4|            0|          1|   N|                Y|          Four Stars|     So far so good.| 2015-08-31|\n",
            "+-----------+-----------+--------------+----------+--------------+--------------------+----------------+-----------+-------------+-----------+----+-----------------+--------------------+--------------------+-----------+\n",
            "only showing top 20 rows\n",
            "\n"
          ]
        }
      ]
    },
    {
      "cell_type": "code",
      "source": [
        "# Create the vine_table DataFrame\n",
        "vine_df = df.select([\"review_id\", \"star_rating\", \"helpful_votes\", \"total_votes\", \"vine\", \"verified_purchase\"])\n",
        "vine_df.show(20)"
      ],
      "metadata": {
        "colab": {
          "base_uri": "https://localhost:8080/"
        },
        "id": "r8cx0i3PDMhv",
        "outputId": "892f53c3-5a0e-405f-c257-f527aa8e9c10"
      },
      "execution_count": 5,
      "outputs": [
        {
          "output_type": "stream",
          "name": "stdout",
          "text": [
            "+--------------+-----------+-------------+-----------+----+-----------------+\n",
            "|     review_id|star_rating|helpful_votes|total_votes|vine|verified_purchase|\n",
            "+--------------+-----------+-------------+-----------+----+-----------------+\n",
            "|R203HPW78Z7N4K|          5|            0|          0|   N|                Y|\n",
            "|R2EAIGVLEALSP3|          5|            1|          1|   N|                Y|\n",
            "|R1K1CD73HHLILA|          5|            0|          0|   N|                Y|\n",
            "|R2KZBMOFRMYOPO|          5|            1|          1|   N|                Y|\n",
            "| R6BIZOZY6UD01|          5|            0|          0|   N|                Y|\n",
            "|R1MCXZFNF8E7Y0|          1|            0|          0|   N|                Y|\n",
            "|R3EMB3E3ODR6BW|          5|            2|          2|   N|                Y|\n",
            "| RJTONVTTOPJ5S|          5|            0|          0|   N|                Y|\n",
            "|R21U5QZ2CQECUM|          4|            0|          0|   N|                Y|\n",
            "| RL2BBC51H89DH|          4|            0|          0|   N|                Y|\n",
            "|R3RNEPHF3WIRSZ|          2|            0|          0|   N|                N|\n",
            "|R38DNT9KML2PF3|          5|            0|          0|   N|                Y|\n",
            "|R2ECMBJM8KNNC8|          4|            0|          0|   N|                Y|\n",
            "|R2F3F92PRN9T7S|          5|            0|          0|   N|                Y|\n",
            "|R35XNT88XVEMK6|          5|            1|          1|   N|                Y|\n",
            "| RZRXLHQS71FUP|          4|            1|          1|   N|                Y|\n",
            "|R3J9T4MZRAURV5|          1|            0|          0|   N|                Y|\n",
            "|R3CLDHHI0ZSQLO|          5|            1|          2|   N|                N|\n",
            "| RY52KZABZK8QF|          1|            0|          0|   N|                Y|\n",
            "|R25RXV5X29M3UC|          4|            0|          1|   N|                Y|\n",
            "+--------------+-----------+-------------+-----------+----+-----------------+\n",
            "only showing top 20 rows\n",
            "\n"
          ]
        }
      ]
    },
    {
      "cell_type": "markdown",
      "source": [
        "### Method 2: Pull existing CSV from S3 Bucket"
      ],
      "metadata": {
        "id": "NwzMVdLVDPiv"
      }
    },
    {
      "cell_type": "code",
      "source": [
        "# Store environmental variable\n",
        "from getpass import getpass\n",
        "url = getpass(\"Enter the link to the S3 Bucket and the data file:\")"
      ],
      "metadata": {
        "colab": {
          "base_uri": "https://localhost:8080/"
        },
        "id": "ygYZdlLEBT0B",
        "outputId": "eb656218-32b5-451f-ab9b-fcd4ef6d0fd7"
      },
      "execution_count": 6,
      "outputs": [
        {
          "name": "stdout",
          "output_type": "stream",
          "text": [
            "Enter the link to the S3 Bucket and the data file:··········\n"
          ]
        }
      ]
    },
    {
      "cell_type": "code",
      "source": [
        "from pyspark import SparkFiles\n",
        "spark.sparkContext.addFile(url)\n",
        "vine_df = spark.read.option(\"encoding\", \"UTF-8\").csv(SparkFiles.get(\"vine_table.csv\"), sep=\",\", header=True, inferSchema=True)\n",
        "vine_df.show(20)"
      ],
      "metadata": {
        "colab": {
          "base_uri": "https://localhost:8080/"
        },
        "id": "VnGtFmT1BD7Q",
        "outputId": "d4ca4b4a-f895-43c4-e8f9-09c723a16b38"
      },
      "execution_count": 7,
      "outputs": [
        {
          "output_type": "stream",
          "name": "stdout",
          "text": [
            "+--------------+-----------+-------------+-----------+----+-----------------+\n",
            "|     review_id|star_rating|helpful_votes|total_votes|vine|verified_purchase|\n",
            "+--------------+-----------+-------------+-----------+----+-----------------+\n",
            "|R203HPW78Z7N4K|          5|            0|          0|   N|                Y|\n",
            "|R2EAIGVLEALSP3|          5|            1|          1|   N|                Y|\n",
            "|R1K1CD73HHLILA|          5|            0|          0|   N|                Y|\n",
            "|R2KZBMOFRMYOPO|          5|            1|          1|   N|                Y|\n",
            "| R6BIZOZY6UD01|          5|            0|          0|   N|                Y|\n",
            "|R1MCXZFNF8E7Y0|          1|            0|          0|   N|                Y|\n",
            "|R3EMB3E3ODR6BW|          5|            2|          2|   N|                Y|\n",
            "| RJTONVTTOPJ5S|          5|            0|          0|   N|                Y|\n",
            "|R21U5QZ2CQECUM|          4|            0|          0|   N|                Y|\n",
            "| RL2BBC51H89DH|          4|            0|          0|   N|                Y|\n",
            "|R3RNEPHF3WIRSZ|          2|            0|          0|   N|                N|\n",
            "|R38DNT9KML2PF3|          5|            0|          0|   N|                Y|\n",
            "|R2ECMBJM8KNNC8|          4|            0|          0|   N|                Y|\n",
            "|R2F3F92PRN9T7S|          5|            0|          0|   N|                Y|\n",
            "|R35XNT88XVEMK6|          5|            1|          1|   N|                Y|\n",
            "| RZRXLHQS71FUP|          4|            1|          1|   N|                Y|\n",
            "|R3J9T4MZRAURV5|          1|            0|          0|   N|                Y|\n",
            "|R3CLDHHI0ZSQLO|          5|            1|          2|   N|                N|\n",
            "| RY52KZABZK8QF|          1|            0|          0|   N|                Y|\n",
            "|R25RXV5X29M3UC|          4|            0|          1|   N|                Y|\n",
            "+--------------+-----------+-------------+-----------+----+-----------------+\n",
            "only showing top 20 rows\n",
            "\n"
          ]
        }
      ]
    },
    {
      "cell_type": "markdown",
      "source": [
        "## Filter the Data for usable entries"
      ],
      "metadata": {
        "id": "SnPhzx8YEWDm"
      }
    },
    {
      "cell_type": "code",
      "source": [
        "# Filter the data for reviews that have at least twenty votes\n",
        "popular_df = vine_df.filter(vine_df[\"total_votes\"] >= 20).orderBy(\"review_id\")\n",
        "popular_df.show(20)"
      ],
      "metadata": {
        "colab": {
          "base_uri": "https://localhost:8080/"
        },
        "id": "EzEohDj2EvWv",
        "outputId": "ba2694c5-6278-4f7d-ec2d-85af9247f842"
      },
      "execution_count": 8,
      "outputs": [
        {
          "output_type": "stream",
          "name": "stdout",
          "text": [
            "+--------------+-----------+-------------+-----------+----+-----------------+\n",
            "|     review_id|star_rating|helpful_votes|total_votes|vine|verified_purchase|\n",
            "+--------------+-----------+-------------+-----------+----+-----------------+\n",
            "|R100212BMGLGI0|          1|           18|         21|   N|                N|\n",
            "|R1002U1ZIY5BUT|          5|           44|         46|   N|                N|\n",
            "|R100YVAS0FCQ9C|          5|           36|         37|   N|                N|\n",
            "|R101W5V3SZ8LFQ|          1|           19|         25|   N|                Y|\n",
            "|R1028R2IEONQZL|          5|           10|         54|   N|                N|\n",
            "|R10328L5NKZHYU|          2|           24|         27|   N|                Y|\n",
            "|R104QJT5QCZKZ8|          1|           38|         50|   N|                N|\n",
            "|R1055S1327MCXB|          5|           45|         48|   N|                N|\n",
            "|R1057TGFKBGGHS|          5|           23|         23|   N|                N|\n",
            "|R1058IT10ZEUI7|          5|           69|         72|   N|                N|\n",
            "|R1058JBPKY772B|          1|           22|         25|   N|                N|\n",
            "| R105NDFWRPN3K|          1|           18|         22|   N|                N|\n",
            "|R1077ZHZYCVQT4|          1|           20|         21|   N|                N|\n",
            "|R107XXOIA9Z511|          1|           59|         66|   N|                N|\n",
            "|R1088L6HZNOJVH|          3|           21|         21|   N|                Y|\n",
            "|R108TVP7OEWHEU|          5|           51|         57|   N|                N|\n",
            "| R10AC3ZQU61XJ|          1|           43|         45|   N|                N|\n",
            "|R10AQF5IMI561T|          4|           55|         58|   N|                N|\n",
            "|R10COZGWBCI49Y|          5|           23|         24|   N|                Y|\n",
            "|R10D2CSPGM1R5V|          4|           24|         24|   N|                N|\n",
            "+--------------+-----------+-------------+-----------+----+-----------------+\n",
            "only showing top 20 rows\n",
            "\n"
          ]
        }
      ]
    },
    {
      "cell_type": "code",
      "source": [
        "# Filter the results for reviews where at least half of the votes mark them as helpful\n",
        "helpful_df = popular_df.filter((popular_df[\"helpful_votes\"] / popular_df[\"total_votes\"]) >= 0.5).orderBy(\"review_id\")\n",
        "helpful_df.show(20)"
      ],
      "metadata": {
        "colab": {
          "base_uri": "https://localhost:8080/"
        },
        "id": "Hr6tRt3eHNl2",
        "outputId": "4346df65-edce-4c58-d961-14c1a34d12a1"
      },
      "execution_count": 9,
      "outputs": [
        {
          "output_type": "stream",
          "name": "stdout",
          "text": [
            "+--------------+-----------+-------------+-----------+----+-----------------+\n",
            "|     review_id|star_rating|helpful_votes|total_votes|vine|verified_purchase|\n",
            "+--------------+-----------+-------------+-----------+----+-----------------+\n",
            "|R100212BMGLGI0|          1|           18|         21|   N|                N|\n",
            "|R1002U1ZIY5BUT|          5|           44|         46|   N|                N|\n",
            "|R100YVAS0FCQ9C|          5|           36|         37|   N|                N|\n",
            "|R101W5V3SZ8LFQ|          1|           19|         25|   N|                Y|\n",
            "|R10328L5NKZHYU|          2|           24|         27|   N|                Y|\n",
            "|R104QJT5QCZKZ8|          1|           38|         50|   N|                N|\n",
            "|R1055S1327MCXB|          5|           45|         48|   N|                N|\n",
            "|R1057TGFKBGGHS|          5|           23|         23|   N|                N|\n",
            "|R1058IT10ZEUI7|          5|           69|         72|   N|                N|\n",
            "|R1058JBPKY772B|          1|           22|         25|   N|                N|\n",
            "| R105NDFWRPN3K|          1|           18|         22|   N|                N|\n",
            "|R1077ZHZYCVQT4|          1|           20|         21|   N|                N|\n",
            "|R107XXOIA9Z511|          1|           59|         66|   N|                N|\n",
            "|R1088L6HZNOJVH|          3|           21|         21|   N|                Y|\n",
            "|R108TVP7OEWHEU|          5|           51|         57|   N|                N|\n",
            "| R10AC3ZQU61XJ|          1|           43|         45|   N|                N|\n",
            "|R10AQF5IMI561T|          4|           55|         58|   N|                N|\n",
            "|R10COZGWBCI49Y|          5|           23|         24|   N|                Y|\n",
            "|R10D2CSPGM1R5V|          4|           24|         24|   N|                N|\n",
            "|R10DCO7TPH0RWP|          5|           74|         76|   N|                Y|\n",
            "+--------------+-----------+-------------+-----------+----+-----------------+\n",
            "only showing top 20 rows\n",
            "\n"
          ]
        }
      ]
    },
    {
      "cell_type": "markdown",
      "source": [
        "## Separate the results between Vine (paid) and non-Vine (unpaid)"
      ],
      "metadata": {
        "id": "LUVGlILtJ1c8"
      }
    },
    {
      "cell_type": "code",
      "source": [
        "paid_df = helpful_df.filter(helpful_df[\"vine\"] == \"Y\").orderBy(\"review_id\")\n",
        "paid_df.show(20)"
      ],
      "metadata": {
        "colab": {
          "base_uri": "https://localhost:8080/"
        },
        "id": "OyO4mCCBI2Ix",
        "outputId": "e96ce528-8178-4f7c-f3e5-a69255b988ef"
      },
      "execution_count": 10,
      "outputs": [
        {
          "output_type": "stream",
          "name": "stdout",
          "text": [
            "+--------------+-----------+-------------+-----------+----+-----------------+\n",
            "|     review_id|star_rating|helpful_votes|total_votes|vine|verified_purchase|\n",
            "+--------------+-----------+-------------+-----------+----+-----------------+\n",
            "|R15NQCQUNOSI4U|          4|           19|         22|   Y|                N|\n",
            "|R15VXK8I0FPU0A|          4|           22|         23|   Y|                N|\n",
            "|R19OUHMKNXU3DC|          4|           76|         78|   Y|                N|\n",
            "|R1B3OGO36CJKDA|          5|           15|         20|   Y|                Y|\n",
            "|R1CXC7HG447Y0A|          4|           65|         69|   Y|                N|\n",
            "|R1IDQ0G1S7J9TN|          5|          178|        196|   Y|                N|\n",
            "|R1L2R8OHO171YG|          5|           66|         68|   Y|                N|\n",
            "|R1SYUVX7GZZ469|          4|           46|         51|   Y|                N|\n",
            "|R20O97P5V9CZ21|          3|           21|         27|   Y|                N|\n",
            "|R214D7Q3CO5W5J|          5|           51|         52|   Y|                N|\n",
            "|R2ACH3HF5VUWGD|          4|           76|         78|   Y|                N|\n",
            "|R2K45IY0NO70ZI|          5|          116|        122|   Y|                N|\n",
            "|R2SIOD5SIH2LJN|          4|           25|         31|   Y|                N|\n",
            "|R2SQ2O06PRCM9D|          5|           28|         31|   Y|                N|\n",
            "|R2X8VIUPVX3WP2|          5|           52|         57|   Y|                N|\n",
            "|R34C4BLRJPH3TL|          5|           48|         53|   Y|                N|\n",
            "|R37J6VNSC5TZVS|          4|           19|         22|   Y|                N|\n",
            "|R3AMGG11RIXJRR|          5|           24|         28|   Y|                N|\n",
            "|R3BQS6JYP129DV|          2|           19|         20|   Y|                N|\n",
            "|R3F1V21FOEIEKN|          4|           30|         33|   Y|                N|\n",
            "+--------------+-----------+-------------+-----------+----+-----------------+\n",
            "only showing top 20 rows\n",
            "\n"
          ]
        }
      ]
    },
    {
      "cell_type": "code",
      "source": [
        "unpaid_df = helpful_df.filter(helpful_df[\"vine\"] == \"N\").orderBy(\"review_id\")\n",
        "unpaid_df.show(20)"
      ],
      "metadata": {
        "colab": {
          "base_uri": "https://localhost:8080/"
        },
        "id": "QtMsbW1iJi8U",
        "outputId": "4b39f0aa-3eb1-4eef-a095-8e8f2c17169a"
      },
      "execution_count": 11,
      "outputs": [
        {
          "output_type": "stream",
          "name": "stdout",
          "text": [
            "+--------------+-----------+-------------+-----------+----+-----------------+\n",
            "|     review_id|star_rating|helpful_votes|total_votes|vine|verified_purchase|\n",
            "+--------------+-----------+-------------+-----------+----+-----------------+\n",
            "|R100212BMGLGI0|          1|           18|         21|   N|                N|\n",
            "|R1002U1ZIY5BUT|          5|           44|         46|   N|                N|\n",
            "|R100YVAS0FCQ9C|          5|           36|         37|   N|                N|\n",
            "|R101W5V3SZ8LFQ|          1|           19|         25|   N|                Y|\n",
            "|R10328L5NKZHYU|          2|           24|         27|   N|                Y|\n",
            "|R104QJT5QCZKZ8|          1|           38|         50|   N|                N|\n",
            "|R1055S1327MCXB|          5|           45|         48|   N|                N|\n",
            "|R1057TGFKBGGHS|          5|           23|         23|   N|                N|\n",
            "|R1058IT10ZEUI7|          5|           69|         72|   N|                N|\n",
            "|R1058JBPKY772B|          1|           22|         25|   N|                N|\n",
            "| R105NDFWRPN3K|          1|           18|         22|   N|                N|\n",
            "|R1077ZHZYCVQT4|          1|           20|         21|   N|                N|\n",
            "|R107XXOIA9Z511|          1|           59|         66|   N|                N|\n",
            "|R1088L6HZNOJVH|          3|           21|         21|   N|                Y|\n",
            "|R108TVP7OEWHEU|          5|           51|         57|   N|                N|\n",
            "| R10AC3ZQU61XJ|          1|           43|         45|   N|                N|\n",
            "|R10AQF5IMI561T|          4|           55|         58|   N|                N|\n",
            "|R10COZGWBCI49Y|          5|           23|         24|   N|                Y|\n",
            "|R10D2CSPGM1R5V|          4|           24|         24|   N|                N|\n",
            "|R10DCO7TPH0RWP|          5|           74|         76|   N|                Y|\n",
            "+--------------+-----------+-------------+-----------+----+-----------------+\n",
            "only showing top 20 rows\n",
            "\n"
          ]
        }
      ]
    },
    {
      "cell_type": "markdown",
      "source": [
        "## Count up the Five-Star reviews"
      ],
      "metadata": {
        "id": "wYFMUNTbKAqR"
      }
    },
    {
      "cell_type": "code",
      "source": [
        "total_count = helpful_df.count()\n",
        "paid_count = paid_df.count()\n",
        "unpaid_count = unpaid_df.count()\n",
        "five_count = helpful_df.filter(helpful_df[\"star_rating\"] == 5).count()\n",
        "five_paid = paid_df.filter(paid_df[\"star_rating\"] == 5).count()\n",
        "five_unpaid = unpaid_df.filter(unpaid_df[\"star_rating\"] == 5).count()\n",
        "\n",
        "star_percent = five_count / total_count * 100\n",
        "paid_percent = five_paid / paid_count * 100\n",
        "unpaid_percent = five_unpaid / unpaid_count * 100\n",
        "\n",
        "# Print the results\n",
        "print(f\"There are {total_count:,} reviews that are considered helpful.\")\n",
        "print(f\"{paid_count:,} reviews come from Vine members; and {unpaid_count:,} reviews come from non-Vine members.\")\n",
        "print(f\"{five_count:,} are 5-Star reviews, comprising {star_percent:.3f}% of all the helpful reviews.\")\n",
        "print(f\"{five_paid:,} Vine reviews have a 5-Star rating, forming {paid_percent:.3f}% of the Vine reviews.\")\n",
        "print(f\"{five_unpaid:,} non-Vine reviews have a 5-Star rating, forming {unpaid_percent:.3f}% of the non-Vine reviews.\")"
      ],
      "metadata": {
        "colab": {
          "base_uri": "https://localhost:8080/"
        },
        "id": "0aH1kOlYKJdH",
        "outputId": "f8a44400-3b19-461d-e456-a48d271a4b50"
      },
      "execution_count": 13,
      "outputs": [
        {
          "output_type": "stream",
          "name": "stdout",
          "text": [
            "There are 4,992 reviews that are considered helpful.\n",
            "35 reviews come from Vine members; and 4,957 reviews come from non-Vine members.\n",
            "1,981 are 5-Star reviews, comprising 39.683% of all the helpful reviews.\n",
            "18 Vine reviews have a 5-Star rating, forming 51.429% of the Vine reviews.\n",
            "1,963 non-Vine reviews have a 5-Star rating, forming 39.601% of the non-Vine reviews.\n"
          ]
        }
      ]
    }
  ]
}